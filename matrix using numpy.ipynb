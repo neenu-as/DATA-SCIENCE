{
 "cells": [
  {
   "cell_type": "code",
   "execution_count": 3,
   "id": "058eb6a9",
   "metadata": {},
   "outputs": [
    {
     "name": "stdout",
     "output_type": "stream",
     "text": [
      "addition:\n",
      "[[ 6  8]\n",
      " [10 12]]\n",
      "\n",
      " substraction\n",
      "[[-4 -4]\n",
      " [-4 -4]]\n",
      "\n",
      " elementwise multiplication\n",
      "[[ 5 12]\n",
      " [21 32]]\n",
      "\n",
      "matrix multiplication\n",
      "[[19 22]\n",
      " [43 50]]\n",
      "\n",
      " TRANSPOSE;\n",
      "[[1 3]\n",
      " [2 4]]\n"
     ]
    }
   ],
   "source": [
    "import numpy as np\n",
    "# create matrices\n",
    "A=np.array([[1,2],[3,4]])\n",
    "B=np.array([[5,6],[7,8]])\n",
    "#addition\n",
    "C=A+B\n",
    "#substractiom\n",
    "D=A-B\n",
    "#multiplication\n",
    "E=A*B\n",
    "#matrix multiplication\n",
    "F=np.dot(A,B)#or A@B\n",
    "#TRANSPOSE\n",
    "A_transpose = A.T\n",
    "print(\"addition:\")\n",
    "print(C)\n",
    "print (\"\\n substraction\")\n",
    "print(D)\n",
    "print(\"\\n elementwise multiplication\")\n",
    "print(E)\n",
    "print(\"\\nmatrix multiplication\")\n",
    "print(F)\n",
    "print(\"\\n TRANSPOSE;\")\n",
    "print(A_transpose)"
   ]
  },
  {
   "cell_type": "code",
   "execution_count": null,
   "id": "d8337876",
   "metadata": {},
   "outputs": [],
   "source": []
  }
 ],
 "metadata": {
  "kernelspec": {
   "display_name": "Python 3 (ipykernel)",
   "language": "python",
   "name": "python3"
  },
  "language_info": {
   "codemirror_mode": {
    "name": "ipython",
    "version": 3
   },
   "file_extension": ".py",
   "mimetype": "text/x-python",
   "name": "python",
   "nbconvert_exporter": "python",
   "pygments_lexer": "ipython3",
   "version": "3.10.12"
  }
 },
 "nbformat": 4,
 "nbformat_minor": 5
}
