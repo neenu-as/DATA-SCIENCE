{
 "cells": [
  {
   "cell_type": "code",
   "execution_count": 2,
   "id": "ff38838b",
   "metadata": {},
   "outputs": [
    {
     "name": "stdout",
     "output_type": "stream",
     "text": [
      "orginal matrix:\n",
      "[[1 2 3]\n",
      " [4 5 6]\n",
      " [7 8 9]]\n",
      "\n",
      " reconstructed matrix (with reduced dimentions):\n",
      "[[1. 2. 3.]\n",
      " [4. 5. 6.]\n",
      " [7. 8. 9.]]\n"
     ]
    }
   ],
   "source": [
    "import numpy as np\n",
    "#create a simple matrix\n",
    "X = np.array([[1,2,3],[4,5,6],[7,8,9]])\n",
    "#perform SVD\n",
    "U,S,VT = np.linalg.svd(X)\n",
    "#choose the number of components to keep (e.g.,2)\n",
    "n_components = 2\n",
    "# reconstruct the matrix with reduced diamentins\n",
    "X_reconstructed = np.dot(U[:, :n_components],np.dot(np.diag(S[:n_components]),VT[:n_components,:]))\n",
    "print(\"orginal matrix:\")\n",
    "print(X)\n",
    "print(\"\\n reconstructed matrix (with reduced dimentions):\")\n",
    "print(X_reconstructed)\n"
   ]
  },
  {
   "cell_type": "code",
   "execution_count": null,
   "id": "488ef72c",
   "metadata": {},
   "outputs": [],
   "source": []
  }
 ],
 "metadata": {
  "kernelspec": {
   "display_name": "Python 3 (ipykernel)",
   "language": "python",
   "name": "python3"
  },
  "language_info": {
   "codemirror_mode": {
    "name": "ipython",
    "version": 3
   },
   "file_extension": ".py",
   "mimetype": "text/x-python",
   "name": "python",
   "nbconvert_exporter": "python",
   "pygments_lexer": "ipython3",
   "version": "3.10.12"
  }
 },
 "nbformat": 4,
 "nbformat_minor": 5
}
